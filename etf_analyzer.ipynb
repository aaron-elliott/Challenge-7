{
 "cells": [
  {
   "cell_type": "code",
   "execution_count": null,
   "metadata": {},
   "outputs": [],
   "source": []
  },
  {
   "cell_type": "markdown",
   "metadata": {},
   "source": [
    "# Create a Web Application for an ETF Analyzer\n",
    "\n",
    "In this Challenge assignment, you’ll build a financial database and web application by using SQL, Python, and the Voilà library to analyze the performance of a hypothetical fintech ETF.\n",
    "\n",
    "Instructions: \n",
    "\n",
    "Use this notebook to complete your analysis of a fintech ETF that consists of four stocks: GOST, GS, PYPL, and SQ. Each stock has its own table in the `etf.db` database, which the `Starter_Code` folder also contains.\n",
    "\n",
    "Analyze the daily returns of the ETF stocks both individually and as a whole. Then deploy the visualizations to a web application by using the Voilà library.\n",
    "\n",
    "The detailed instructions are divided into the following parts:\n",
    "\n",
    "* Analyze a single asset in the ETF\n",
    "\n",
    "* Optimize data access with Advanced SQL queries\n",
    "\n",
    "* Analyze the ETF portfolio\n",
    "\n",
    "* Deploy the notebook as a web application\n",
    "\n",
    "#### Analyze a Single Asset in the ETF\n",
    "\n",
    "For this part of the assignment, you’ll use SQL queries with Python, Pandas, and hvPlot to analyze the performance of a single asset from the ETF.\n",
    "\n",
    "Complete the following steps:\n",
    "\n",
    "1. Write a SQL `SELECT` statement by using an f-string that reads all the PYPL data from the database. Using the SQL `SELECT` statement, execute a query that reads the PYPL data from the database into a Pandas DataFrame.\n",
    "\n",
    "2. Use the `head` and `tail` functions to review the first five and the last five rows of the DataFrame. Make a note of the beginning and end dates that are available from this dataset. You’ll use this information to complete your analysis.\n",
    "\n",
    "3. Using hvPlot, create an interactive visualization for the PYPL daily returns. Reflect the “time” column of the DataFrame on the x-axis. Make sure that you professionally style and format your visualization to enhance its readability.\n",
    "\n",
    "4. Using hvPlot, create an interactive visualization for the PYPL cumulative returns. Reflect the “time” column of the DataFrame on the x-axis. Make sure that you professionally style and format your visualization to enhance its readability.\n",
    "\n",
    "#### Optimize Data Access with Advanced SQL Queries\n",
    "\n",
    "For this part of the assignment, you’ll continue to analyze a single asset (PYPL) from the ETF. You’ll use advanced SQL queries to optimize the efficiency of accessing data from the database.\n",
    "\n",
    "Complete the following steps:\n",
    "\n",
    "1. Access the closing prices for PYPL that are greater than 200 by completing the following steps:\n",
    "\n",
    "    - Write a SQL `SELECT` statement to select the dates where the PYPL closing price was higher than 200.0.\n",
    "\n",
    "    - Using the SQL statement, read the data from the database into a Pandas DataFrame, and then review the resulting DataFrame.\n",
    "\n",
    "    - Select the “time” and “close” columns for those dates where the closing price was higher than 200.0.\n",
    "\n",
    "2. Find the top 10 daily returns for PYPL by completing the following steps:\n",
    "\n",
    "    -  Write a SQL statement to find the top 10 PYPL daily returns. Make sure to do the following:\n",
    "\n",
    "        * Use `SELECT` to select only the “time” and “daily_returns” columns.\n",
    "\n",
    "        * Use `ORDER` to sort the results in descending order by the “daily_returns” column.\n",
    "\n",
    "        * Use `LIMIT` to limit the results to the top 10 daily return values.\n",
    "\n",
    "    - Using the SQL statement, read the data from the database into a Pandas DataFrame, and then review the resulting DataFrame.\n",
    "\n",
    "#### Analyze the ETF Portfolio\n",
    "\n",
    "For this part of the assignment, you’ll build the entire ETF portfolio and then evaluate its performance. To do so, you’ll build the ETF portfolio by using SQL joins to combine all the data for each asset.\n",
    "\n",
    "Complete the following steps:\n",
    "\n",
    "1. Write a SQL query to join each table in the portfolio into a single DataFrame. To do so, complete the following steps:\n",
    "\n",
    "    - Use a SQL inner join to join each table on the “time” column. Access the “time” column in the `GDOT` table via the `GDOT.time` syntax. Access the “time” columns from the other tables via similar syntax.\n",
    "\n",
    "    - Using the SQL query, read the data from the database into a Pandas DataFrame. Review the resulting DataFrame.\n",
    "\n",
    "2. Create a DataFrame that averages the “daily_returns” columns for all four assets. Review the resulting DataFrame.\n",
    "\n",
    "    > **Hint** Assuming that this ETF contains equally weighted returns, you can average the returns for each asset to get the average returns of the portfolio. You can then use the average returns of the portfolio to calculate the annualized returns and the cumulative returns. For the calculation to get the average daily returns for the portfolio, use the following code:\n",
    "    >\n",
    "    > ```python\n",
    "    > etf_portfolio_returns = etf_portfolio['daily_returns'].mean(axis=1)\n",
    "    > ```\n",
    "    >\n",
    "    > You can use the average daily returns of the portfolio the same way that you used the daily returns of a single asset.\n",
    "\n",
    "3. Use the average daily returns in the `etf_portfolio_returns` DataFrame to calculate the annualized returns for the portfolio. Display the annualized return value of the ETF portfolio.\n",
    "\n",
    "> **Hint**  To calculate the annualized returns, multiply the mean of the `etf_portfolio_returns` values by 252.\n",
    ">\n",
    "> To convert the decimal values to percentages, multiply the results by 100.\n",
    "\n",
    "4. Use the average daily returns in the `etf_portfolio_returns` DataFrame to calculate the cumulative returns of the ETF portfolio.\n",
    "\n",
    "5. Using hvPlot, create an interactive line plot that visualizes the cumulative return values of the ETF portfolio. Reflect the “time” column of the DataFrame on the x-axis. Make sure that you professionally style and format your visualization to enhance its readability.\n",
    "\n",
    "#### Deploy the Notebook as a Web Application\n",
    "\n",
    "For this part of the assignment, complete the following steps:\n",
    "\n",
    "1. Use the Voilà library to deploy your notebook as a web application. You can deploy the web application locally on your computer.\n",
    "\n",
    "2. Take a screen recording or screenshots to show how the web application appears when using Voilà. Include the recording or screenshots in the `README.md` file for your GitHub repository.\n"
   ]
  },
  {
   "cell_type": "markdown",
   "metadata": {},
   "source": [
    "## Review the following code which imports the required libraries, initiates your SQLite database, popluates the database with records from the `etf.db` seed file that was included in your Starter_Code folder, creates the database engine, and confirms that data tables that it now contains."
   ]
  },
  {
   "cell_type": "code",
   "execution_count": null,
   "metadata": {},
   "outputs": [
    {
     "name": "stdout",
     "output_type": "stream",
     "text": [
      "Collecting package metadata (current_repodata.json): ...working... done\n",
      "Solving environment: ...working... done\n",
      "\n",
      "# All requested packages already installed.\n",
      "\n"
     ]
    }
   ],
   "source": [
    "# Importing the required libraries and dependencies\n",
    "import sys\n",
    "!conda install --yes --prefix {sys.prefix} hvplot\n",
    "!{sys.executable} -m pip install quandl\n",
    "\n",
    "import matplotlib.pyplot as plt\n",
    "import pandas as pd\n",
    "import requests \n",
    "from dotenv import load_dotenv\n",
    "import os\n",
    "import json\n",
    "import hvplot.pandas\n",
    "import quandl\n",
    "import numpy as np\n",
    "import hvplot.pandas\n",
    "import sqlalchemy\n",
    "\n",
    "# Create a temporary SQLite database and populate the database with content from the etf.db seed file\n",
    "\n",
    "database_connection_string = 'sqlite:///etf.db'\n",
    "\n",
    "\n",
    "# Create an engine to interact with the SQLite database\n",
    "\n",
    "engine = sqlalchemy.create_engine(database_connection_string)\n",
    "\n",
    "# Confirm that table names contained in the SQLite database.\n",
    "\n",
    "engine.table_names()"
   ]
  },
  {
   "cell_type": "markdown",
   "metadata": {},
   "source": [
    "## Analyze a single asset in the FinTech ETF\n",
    "\n",
    "For this part of the assignment, you’ll use SQL queries with Python, Pandas, and hvPlot to analyze the performance of a single asset from the ETF.\n",
    "\n",
    "Complete the following steps:\n",
    "\n",
    "1. Write a SQL `SELECT` statement by using an f-string that reads all the PYPL data from the database. Using the SQL `SELECT` statement, execute a query that reads the PYPL data from the database into a Pandas DataFrame.\n",
    "\n",
    "2. Use the `head` and `tail` functions to review the first five and the last five rows of the DataFrame. Make a note of the beginning and end dates that are available from this dataset. You’ll use this information to complete your analysis.\n",
    "\n",
    "3. Using hvPlot, create an interactive visualization for the PYPL daily returns. Reflect the “time” column of the DataFrame on the x-axis. Make sure that you professionally style and format your visualization to enhance its readability.\n",
    "\n",
    "4. Using hvPlot, create an interactive visualization for the PYPL cumulative returns. Reflect the “time” column of the DataFrame on the x-axis. Make sure that you professionally style and format your visualization to enhance its readability.\n",
    "\n"
   ]
  },
  {
   "cell_type": "markdown",
   "metadata": {},
   "source": [
    "### Step 1: Write a SQL `SELECT` statement by using an f-string that reads all the PYPL data from the database. Using the SQL `SELECT` statement, execute a query that reads the PYPL data from the database into a Pandas DataFrame."
   ]
  },
  {
   "cell_type": "code",
   "execution_count": null,
   "metadata": {},
   "outputs": [],
   "source": [
    "# Write a SQL query to SELECT all of the data from the PYPL table\n",
    "\n",
    "PYPL_query = \"\"\"SELECT * FROM PYPL\"\"\"\n",
    "\n",
    "pypl_dataframe = pd.read_sql(PYPL_query, con=engine)\n"
   ]
  },
  {
   "cell_type": "code",
   "execution_count": null,
   "metadata": {},
   "outputs": [],
   "source": [
    "# This removes index column:\n",
    "# stocks_dataframe.to_sql('stocks', engine, index=False, if_exists='replace')\n",
    "# sql_stocks_df = pd.read_sql_table('stocks', con=engine)\n",
    "# sql_stocks_df"
   ]
  },
  {
   "cell_type": "markdown",
   "metadata": {},
   "source": [
    "### Step 2: Use the `head` and `tail` functions to review the first five and the last five rows of the DataFrame. Make a note of the beginning and end dates that are available from this dataset. You’ll use this information to complete your analysis."
   ]
  },
  {
   "cell_type": "code",
   "execution_count": null,
   "metadata": {},
   "outputs": [],
   "source": [
    "# View the first 5 rows of the DataFrame.\n",
    "\n",
    "pypl_dataframe.head(5)\n",
    "\n",
    "# View the last 5 rows of the DataFrame.\n",
    "\n",
    "pypl_dataframe.tail(5)\n"
   ]
  },
  {
   "cell_type": "markdown",
   "metadata": {},
   "source": [
    "### Step 3: Using hvPlot, create an interactive visualization for the PYPL daily returns. Reflect the “time” column of the DataFrame on the x-axis. Make sure that you professionally style and format your visualization to enhance its readability."
   ]
  },
  {
   "cell_type": "code",
   "execution_count": null,
   "metadata": {},
   "outputs": [],
   "source": [
    "# Create an interactive visualization with hvplot to plot the daily returns for PYPL.\n",
    "\n",
    "pypl_dataframe_plot = pypl_dataframe [[\"time\" , \"daily_returns\"]]\n",
    "# pypl_dataframe_plot\n",
    "pypl_dataframe_plot.hvplot.line (        \n",
    "    height= 1000,\n",
    "    width=1000,\n",
    "    xlabel = \"time\",\n",
    "    ylabel = \"volume\",\n",
    "    title = \"$PYPL Daily Returns\"\n",
    ").opts(yformatter='%.0f')\n",
    "\n"
   ]
  },
  {
   "cell_type": "markdown",
   "metadata": {},
   "source": [
    "### Step 4: Using hvPlot, create an interactive visualization for the PYPL cumulative returns. Reflect the “time” column of the DataFrame on the x-axis. Make sure that you professionally style and format your visualization to enhance its readability."
   ]
  },
  {
   "cell_type": "code",
   "execution_count": null,
   "metadata": {},
   "outputs": [],
   "source": [
    "# Create an interactive visaulization with hvplot to plot the cumulative returns for PYPL.\n",
    "\n",
    "pypl_dataframe['cumulative_returns'] = pypl_dataframe['daily_returns'].cumsum()\n",
    "\n",
    "\n",
    "pypl_dataframe['cumulative_returns'].hvplot.line (        \n",
    "    height= 1000,\n",
    "    width=1000,\n",
    "    xlabel = \"time\",\n",
    "    ylabel = \"returns\",\n",
    "    title = \"$PYPL Cumulative Returns\"\n",
    ").opts(yformatter='%.0f')\n",
    "#pypl_dataframe\n"
   ]
  },
  {
   "cell_type": "markdown",
   "metadata": {},
   "source": [
    "## Optimize the SQL Queries\n",
    "\n",
    "For this part of the assignment, you’ll continue to analyze a single asset (PYPL) from the ETF. You’ll use advanced SQL queries to optimize the efficiency of accessing data from the database.\n",
    "\n",
    "Complete the following steps:\n",
    "\n",
    "1. Access the closing prices for PYPL that are greater than 200 by completing the following steps:\n",
    "\n",
    "1. Access the closing prices for PYPL that are greater than 200 by completing the following steps:\n",
    "\n",
    "    - Write a SQL `SELECT` statement to select the dates where the PYPL closing price was higher than 200.0.\n",
    "\n",
    "    - Select the “time” and “close” columns for those dates where the closing price was higher than 200.0.\n",
    "\n",
    "    - Using the SQL statement, read the data from the database into a Pandas DataFrame, and then review the resulting DataFrame.\n",
    "\n",
    "2. Find the top 10 daily returns for PYPL by completing the following steps:\n",
    "\n",
    "    -  Write a SQL statement to find the top 10 PYPL daily returns. Make sure to do the following:\n",
    "\n",
    "        * Use `SELECT` to select only the “time” and “daily_returns” columns.\n",
    "\n",
    "        * Use `ORDER` to sort the results in descending order by the “daily_returns” column.\n",
    "\n",
    "        * Use `LIMIT` to limit the results to the top 10 daily return values.\n",
    "\n",
    "    - Using the SQL statement, read the data from the database into a Pandas DataFrame, and then review the resulting DataFrame.\n"
   ]
  },
  {
   "cell_type": "markdown",
   "metadata": {},
   "source": [
    "### Step 1: Access the closing prices for PYPL that are greater than 200 by completing the following steps:\n",
    "\n",
    "    - Write a SQL `SELECT` statement to select the dates where the PYPL closing price was higher than 200.0.\n",
    "\n",
    "    - Select the “time” and “close” columns for those dates where the closing price was higher than 200.0.\n",
    "\n",
    "    - Using the SQL statement, read the data from the database into a Pandas DataFrame, and then review the resulting DataFrame.\n"
   ]
  },
  {
   "cell_type": "code",
   "execution_count": null,
   "metadata": {
    "scrolled": true
   },
   "outputs": [],
   "source": [
    "# Write a SQL SELECT statement to select the time and close columns \n",
    "# where the PYPL closing price was higher than 200.0.\n",
    "\n",
    "PYPL_close_time_query = \"\"\"SELECT time , close\n",
    "FROM PYPL \n",
    "WHERE close > 200\"\"\"\n",
    "\n",
    "\n",
    "# Using the query, read the data from the database into a Pandas DataFrame\n",
    "\n",
    "pypl_greater_than_200 = pd.read_sql(PYPL_close_time_query, con=engine)\n",
    "\n",
    "# Review the resulting DataFrame\n",
    "\n",
    "pypl_greater_than_200\n"
   ]
  },
  {
   "cell_type": "markdown",
   "metadata": {},
   "source": [
    "### Step 2: Find the top 10 daily returns for PYPL by completing the following steps:\n",
    "\n",
    "    -  Write a SQL statement to find the top 10 PYPL daily returns. Make sure to do the following:\n",
    "\n",
    "        * Use `SELECT` to select only the “time” and “daily_returns” columns.\n",
    "\n",
    "        * Use `ORDER` to sort the results in descending order by the “daily_returns” column.\n",
    "\n",
    "        * Use `LIMIT` to limit the results to the top 10 daily return values.\n",
    "\n",
    "    - Using the SQL statement, read the data from the database into a Pandas DataFrame, and then review the resulting DataFrame.\n"
   ]
  },
  {
   "cell_type": "code",
   "execution_count": null,
   "metadata": {},
   "outputs": [],
   "source": [
    "# Write a SQL SELECT statement to select the time and daily_returns columns\n",
    "# Sort the results in descending order and return only the top 10 return values\n",
    "PYPL_daily_returns_time_query = \"\"\"SELECT time , daily_returns\n",
    "\n",
    "FROM PYPL \n",
    "ORDER BY daily_returns DESC\n",
    "LIMIT 10\"\"\"\n",
    "\n",
    "# Using the query, read the data from the database into a Pandas DataFrame\n",
    "\n",
    "pypl_top_10_returns = pd.read_sql(PYPL_daily_returns_time_query, con=engine)\n",
    "\n",
    "# Review the resulting DataFrame\n",
    "\n",
    "pypl_top_10_returns\n"
   ]
  },
  {
   "cell_type": "code",
   "execution_count": null,
   "metadata": {},
   "outputs": [],
   "source": []
  },
  {
   "cell_type": "code",
   "execution_count": null,
   "metadata": {},
   "outputs": [],
   "source": []
  },
  {
   "cell_type": "markdown",
   "metadata": {},
   "source": [
    "## Analyze the Fintech ETF Portfolio\n",
    "\n",
    "For this part of the assignment, you’ll build the entire ETF portfolio and then evaluate its performance. To do so, you’ll build the ETF portfolio by using SQL joins to combine all the data for each asset.\n",
    "\n",
    "Complete the following steps:\n",
    "\n",
    "1. Write a SQL query to join each table in the portfolio into a single DataFrame. To do so, complete the following steps:\n",
    "\n",
    "    - Use a SQL inner join to join each table on the “time” column. Access the “time” column in the `GDOT` table via the `GDOT.time` syntax. Access the “time” columns from the other tables via similar syntax.\n",
    "\n",
    "    - Using the SQL query, read the data from the database into a Pandas DataFrame. Review the resulting DataFrame.\n",
    "\n",
    "2. Create a DataFrame that averages the “daily_returns” columns for all four assets. Review the resulting DataFrame.\n",
    "\n",
    "    > **Hint** Assuming that this ETF contains equally weighted returns, you can average the returns for each asset to get the average returns of the portfolio. You can then use the average returns of the portfolio to calculate the annualized returns and the cumulative returns. For the calculation to get the average daily returns for the portfolio, use the following code:\n",
    "    >\n",
    "    > ```python\n",
    "    > etf_portfolio_returns = etf_portfolio['daily_returns'].mean(axis=1)\n",
    "    > ```\n",
    "    >\n",
    "    > You can use the average daily returns of the portfolio the same way that you used the daily returns of a single asset.\n",
    "\n",
    "3. Use the average daily returns in the `etf_portfolio_returns` DataFrame to calculate the annualized returns for the portfolio. Display the annualized return value of the ETF portfolio.\n",
    "\n",
    "> **Hint**  To calculate the annualized returns, multiply the mean of the `etf_portfolio_returns` values by 252.\n",
    ">\n",
    "> To convert the decimal values to percentages, multiply the results by 100.\n",
    "\n",
    "4. Use the average daily returns in the `etf_portfolio_returns` DataFrame to calculate the cumulative returns of the ETF portfolio.\n",
    "\n",
    "5. Using hvPlot, create an interactive line plot that visualizes the cumulative return values of the ETF portfolio. Reflect the “time” column of the DataFrame on the x-axis. Make sure that you professionally style and format your visualization to enhance its readability.\n"
   ]
  },
  {
   "cell_type": "markdown",
   "metadata": {},
   "source": [
    "### Step 1: Write a SQL query to join each table in the portfolio into a single DataFrame. To do so, complete the following steps:\n",
    "\n",
    "    - Use a SQL inner join to join each table on the “time” column. Access the “time” column in the `GDOT` table via the `GDOT.time` syntax. Access the “time” columns from the other tables via similar syntax.\n",
    "\n",
    "    - Using the SQL query, read the data from the database into a Pandas DataFrame. Review the resulting DataFrame."
   ]
  },
  {
   "cell_type": "code",
   "execution_count": null,
   "metadata": {
    "scrolled": true
   },
   "outputs": [],
   "source": [
    "# Wreate a SQL query to join each table in the portfolio into a single DataFrame \n",
    "# Use the time column from each table as the basis for the join\n",
    "\n",
    "PYPL_join_query = \"\"\"SELECT *\n",
    "FROM GDOT\n",
    "JOIN PYPL \n",
    "ON GDOT.time = PYPL.time\n",
    "JOIN GS \n",
    "ON GDOT.time = GS.time\n",
    "JOIN SQ \n",
    "ON GDOT.time = SQ.time\n",
    "\"\"\"\n",
    "#GDOT', 'GS', 'PYPL', 'SQ'\n",
    "# Using the query, read the data from the database into a Pandas DataFrame\n",
    "\n",
    "etf_portfolio = pd.read_sql(PYPL_join_query, con=engine)\n",
    "\n",
    "# Review the resulting DataFrame\n",
    "\n",
    "etf_portfolio\n"
   ]
  },
  {
   "cell_type": "markdown",
   "metadata": {},
   "source": [
    "### Step 2: Create a DataFrame that averages the “daily_returns” columns for all four assets. Review the resulting DataFrame."
   ]
  },
  {
   "cell_type": "code",
   "execution_count": null,
   "metadata": {},
   "outputs": [],
   "source": [
    "etf_portfolio[\"daily_returns\"].mean()"
   ]
  },
  {
   "cell_type": "code",
   "execution_count": null,
   "metadata": {
    "scrolled": true
   },
   "outputs": [],
   "source": [
    "# Create a DataFrame that displays the mean value of the “daily_returns” columns for all four assets.\n",
    "\n",
    "etf_portfolio_returns = etf_portfolio[\"daily_returns\"].mean()\n",
    "\n",
    "\n",
    "# Review the resulting DataFrame\n",
    "\n",
    "etf_portfolio_returns\n"
   ]
  },
  {
   "cell_type": "markdown",
   "metadata": {},
   "source": [
    "### Step 3: Use the average daily returns in the etf_portfolio_returns DataFrame to calculate the annualized returns for the portfolio. Display the annualized return value of the ETF portfolio."
   ]
  },
  {
   "cell_type": "code",
   "execution_count": null,
   "metadata": {},
   "outputs": [],
   "source": [
    "# Use the average daily returns provided by the etf_portfolio_returns DataFrame \n",
    "# to calculate the annualized return for the portfolio. \n",
    "\n",
    "annualized_returns = etf_portfolio_returns * 252\n",
    "\n",
    "# Display the annualized return value of the ETF portfolio.\n",
    "\n",
    "annualized_returns\n"
   ]
  },
  {
   "cell_type": "markdown",
   "metadata": {},
   "source": [
    "### Step 4: Use the average daily returns in the `etf_portfolio_returns` DataFrame to calculate the cumulative returns of the ETF portfolio."
   ]
  },
  {
   "cell_type": "code",
   "execution_count": null,
   "metadata": {},
   "outputs": [],
   "source": [
    "# Use the average daily returns provided by the etf_portfolio_returns DataFrame \n",
    "# to calculate the cumulative returns\n",
    "\n",
    "cumulative_returns = annualized_returns.cumprod()\n",
    "\n",
    "# Display the final cumulative return value\n",
    "\n",
    "cumulative_returns\n"
   ]
  },
  {
   "cell_type": "markdown",
   "metadata": {},
   "source": [
    "### Step 5: Using hvPlot, create an interactive line plot that visualizes the cumulative return values of the ETF portfolio. Reflect the “time” column of the DataFrame on the x-axis. Make sure that you professionally style and format your visualization to enhance its readability."
   ]
  },
  {
   "cell_type": "code",
   "execution_count": 19,
   "metadata": {},
   "outputs": [
    {
     "data": {
      "text/html": [
       "<div>\n",
       "<style scoped>\n",
       "    .dataframe tbody tr th:only-of-type {\n",
       "        vertical-align: middle;\n",
       "    }\n",
       "\n",
       "    .dataframe tbody tr th {\n",
       "        vertical-align: top;\n",
       "    }\n",
       "\n",
       "    .dataframe thead th {\n",
       "        text-align: right;\n",
       "    }\n",
       "</style>\n",
       "<table border=\"1\" class=\"dataframe\">\n",
       "  <thead>\n",
       "    <tr style=\"text-align: right;\">\n",
       "      <th></th>\n",
       "      <th>GDOT</th>\n",
       "      <th>GS</th>\n",
       "      <th>PYPL</th>\n",
       "      <th>SQ</th>\n",
       "    </tr>\n",
       "  </thead>\n",
       "  <tbody>\n",
       "    <tr>\n",
       "      <th>0</th>\n",
       "      <td>-0.023218</td>\n",
       "      <td>-0.005564</td>\n",
       "      <td>-0.016708</td>\n",
       "      <td>0.017339</td>\n",
       "    </tr>\n",
       "    <tr>\n",
       "      <th>1</th>\n",
       "      <td>-0.030957</td>\n",
       "      <td>-0.002276</td>\n",
       "      <td>-0.015926</td>\n",
       "      <td>0.016277</td>\n",
       "    </tr>\n",
       "    <tr>\n",
       "      <th>2</th>\n",
       "      <td>-0.029735</td>\n",
       "      <td>0.005058</td>\n",
       "      <td>0.000412</td>\n",
       "      <td>0.025478</td>\n",
       "    </tr>\n",
       "    <tr>\n",
       "      <th>3</th>\n",
       "      <td>-0.028106</td>\n",
       "      <td>0.013910</td>\n",
       "      <td>-0.006502</td>\n",
       "      <td>0.017693</td>\n",
       "    </tr>\n",
       "    <tr>\n",
       "      <th>4</th>\n",
       "      <td>-0.022200</td>\n",
       "      <td>0.003541</td>\n",
       "      <td>-0.011646</td>\n",
       "      <td>-0.006369</td>\n",
       "    </tr>\n",
       "    <tr>\n",
       "      <th>...</th>\n",
       "      <td>...</td>\n",
       "      <td>...</td>\n",
       "      <td>...</td>\n",
       "      <td>...</td>\n",
       "    </tr>\n",
       "    <tr>\n",
       "      <th>994</th>\n",
       "      <td>1.181263</td>\n",
       "      <td>4.417299</td>\n",
       "      <td>-0.051111</td>\n",
       "      <td>13.931352</td>\n",
       "    </tr>\n",
       "    <tr>\n",
       "      <th>995</th>\n",
       "      <td>1.191039</td>\n",
       "      <td>4.475974</td>\n",
       "      <td>-0.044897</td>\n",
       "      <td>13.366596</td>\n",
       "    </tr>\n",
       "    <tr>\n",
       "      <th>996</th>\n",
       "      <td>1.131161</td>\n",
       "      <td>4.378351</td>\n",
       "      <td>-0.021605</td>\n",
       "      <td>13.303609</td>\n",
       "    </tr>\n",
       "    <tr>\n",
       "      <th>997</th>\n",
       "      <td>1.189817</td>\n",
       "      <td>4.429439</td>\n",
       "      <td>-0.030370</td>\n",
       "      <td>13.545648</td>\n",
       "    </tr>\n",
       "    <tr>\n",
       "      <th>998</th>\n",
       "      <td>1.193890</td>\n",
       "      <td>4.494057</td>\n",
       "      <td>-0.018230</td>\n",
       "      <td>13.693305</td>\n",
       "    </tr>\n",
       "  </tbody>\n",
       "</table>\n",
       "<p>999 rows × 4 columns</p>\n",
       "</div>"
      ],
      "text/plain": [
       "         GDOT        GS      PYPL         SQ\n",
       "0   -0.023218 -0.005564 -0.016708   0.017339\n",
       "1   -0.030957 -0.002276 -0.015926   0.016277\n",
       "2   -0.029735  0.005058  0.000412   0.025478\n",
       "3   -0.028106  0.013910 -0.006502   0.017693\n",
       "4   -0.022200  0.003541 -0.011646  -0.006369\n",
       "..        ...       ...       ...        ...\n",
       "994  1.181263  4.417299 -0.051111  13.931352\n",
       "995  1.191039  4.475974 -0.044897  13.366596\n",
       "996  1.131161  4.378351 -0.021605  13.303609\n",
       "997  1.189817  4.429439 -0.030370  13.545648\n",
       "998  1.193890  4.494057 -0.018230  13.693305\n",
       "\n",
       "[999 rows x 4 columns]"
      ]
     },
     "execution_count": 19,
     "metadata": {},
     "output_type": "execute_result"
    }
   ],
   "source": [
    "cumulative_returns = (1+ etf_portfolio[\"daily_returns\"]).cumprod() -1\n",
    "\n",
    "#etf_cumulative_returns.columns = engine.table_names()\n",
    "\n",
    "cumulative_returns.columns = ['GDOT', 'GS', 'PYPL', 'SQ']\n",
    "cumulative_returns"
   ]
  },
  {
   "cell_type": "code",
   "execution_count": null,
   "metadata": {},
   "outputs": [],
   "source": []
  },
  {
   "cell_type": "code",
   "execution_count": null,
   "metadata": {},
   "outputs": [],
   "source": []
  },
  {
   "cell_type": "code",
   "execution_count": 20,
   "metadata": {},
   "outputs": [
    {
     "ename": "NameError",
     "evalue": "name 'etf_cumulative_returns' is not defined",
     "output_type": "error",
     "traceback": [
      "\u001b[1;31m---------------------------------------------------------------------\u001b[0m",
      "\u001b[1;31mNameError\u001b[0m                           Traceback (most recent call last)",
      "\u001b[1;32m<ipython-input-20-bbcacad41186>\u001b[0m in \u001b[0;36m<module>\u001b[1;34m\u001b[0m\n\u001b[1;32m----> 1\u001b[1;33m etf_cumulative_returns.hvplot(\n\u001b[0m\u001b[0;32m      2\u001b[0m     \u001b[0mxlabel\u001b[0m\u001b[1;33m=\u001b[0m\u001b[1;34m\"Time\"\u001b[0m\u001b[1;33m,\u001b[0m\u001b[1;33m\u001b[0m\u001b[1;33m\u001b[0m\u001b[0m\n\u001b[0;32m      3\u001b[0m     \u001b[0mylabel\u001b[0m\u001b[1;33m=\u001b[0m\u001b[1;34m\"Daily Return\"\u001b[0m\u001b[1;33m,\u001b[0m\u001b[1;33m\u001b[0m\u001b[1;33m\u001b[0m\u001b[0m\n\u001b[0;32m      4\u001b[0m     \u001b[0mtitle\u001b[0m \u001b[1;33m=\u001b[0m\u001b[1;34m\"Cumulative Returns\"\u001b[0m\u001b[1;33m,\u001b[0m\u001b[1;33m\u001b[0m\u001b[1;33m\u001b[0m\u001b[0m\n\u001b[0;32m      5\u001b[0m     \u001b[0mrot\u001b[0m\u001b[1;33m=\u001b[0m\u001b[1;36m90\u001b[0m\u001b[1;33m,\u001b[0m\u001b[1;33m\u001b[0m\u001b[1;33m\u001b[0m\u001b[0m\n",
      "\u001b[1;31mNameError\u001b[0m: name 'etf_cumulative_returns' is not defined"
     ]
    }
   ],
   "source": [
    "etf_cumulative_returns.hvplot(\n",
    "    xlabel=\"Time\",\n",
    "    ylabel=\"Daily Return\",\n",
    "    title =\"Cumulative Returns\",\n",
    "    rot=90, \n",
    "    height = 1000,\n",
    "    width = 1000\n",
    ")"
   ]
  },
  {
   "cell_type": "code",
   "execution_count": null,
   "metadata": {},
   "outputs": [],
   "source": []
  },
  {
   "cell_type": "code",
   "execution_count": null,
   "metadata": {},
   "outputs": [],
   "source": []
  },
  {
   "cell_type": "code",
   "execution_count": null,
   "metadata": {},
   "outputs": [],
   "source": []
  },
  {
   "cell_type": "code",
   "execution_count": null,
   "metadata": {},
   "outputs": [],
   "source": []
  },
  {
   "cell_type": "code",
   "execution_count": null,
   "metadata": {},
   "outputs": [],
   "source": []
  },
  {
   "cell_type": "code",
   "execution_count": null,
   "metadata": {},
   "outputs": [],
   "source": []
  },
  {
   "cell_type": "code",
   "execution_count": null,
   "metadata": {},
   "outputs": [],
   "source": []
  },
  {
   "cell_type": "code",
   "execution_count": null,
   "metadata": {},
   "outputs": [],
   "source": []
  },
  {
   "cell_type": "code",
   "execution_count": null,
   "metadata": {},
   "outputs": [],
   "source": []
  }
 ],
 "metadata": {
  "interpreter": {
   "hash": "a2151002ac9fcd8be3bc131613bebdf1c606b60c4c1b00b747db4aa33e24e86d"
  },
  "kernelspec": {
   "display_name": "Python 3",
   "language": "python",
   "name": "python3"
  },
  "language_info": {
   "codemirror_mode": {
    "name": "ipython",
    "version": 3
   },
   "file_extension": ".py",
   "mimetype": "text/x-python",
   "name": "python",
   "nbconvert_exporter": "python",
   "pygments_lexer": "ipython3",
   "version": "3.8.8"
  }
 },
 "nbformat": 4,
 "nbformat_minor": 4
}
